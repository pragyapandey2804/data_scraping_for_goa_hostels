{
 "cells": [
  {
   "cell_type": "code",
   "execution_count": 1,
   "id": "13de0a22-2bb5-4020-86ad-8a29d2cc60f6",
   "metadata": {},
   "outputs": [
    {
     "name": "stdout",
     "output_type": "stream",
     "text": [
      "Defaulting to user installation because normal site-packages is not writeable\n",
      "Collecting selenium\n",
      "  Downloading selenium-4.27.1-py3-none-any.whl.metadata (7.1 kB)\n",
      "Requirement already satisfied: urllib3<3,>=1.26 in c:\\programdata\\anaconda3\\lib\\site-packages (from urllib3[socks]<3,>=1.26->selenium) (2.2.2)\n",
      "Collecting trio~=0.17 (from selenium)\n",
      "  Downloading trio-0.27.0-py3-none-any.whl.metadata (8.6 kB)\n",
      "Collecting trio-websocket~=0.9 (from selenium)\n",
      "  Downloading trio_websocket-0.11.1-py3-none-any.whl.metadata (4.7 kB)\n",
      "Requirement already satisfied: certifi>=2021.10.8 in c:\\programdata\\anaconda3\\lib\\site-packages (from selenium) (2024.7.4)\n",
      "Requirement already satisfied: typing_extensions~=4.9 in c:\\programdata\\anaconda3\\lib\\site-packages (from selenium) (4.11.0)\n",
      "Requirement already satisfied: websocket-client~=1.8 in c:\\programdata\\anaconda3\\lib\\site-packages (from selenium) (1.8.0)\n",
      "Collecting attrs>=23.2.0 (from trio~=0.17->selenium)\n",
      "  Downloading attrs-24.2.0-py3-none-any.whl.metadata (11 kB)\n",
      "Requirement already satisfied: sortedcontainers in c:\\programdata\\anaconda3\\lib\\site-packages (from trio~=0.17->selenium) (2.4.0)\n",
      "Requirement already satisfied: idna in c:\\programdata\\anaconda3\\lib\\site-packages (from trio~=0.17->selenium) (3.7)\n",
      "Collecting outcome (from trio~=0.17->selenium)\n",
      "  Downloading outcome-1.3.0.post0-py2.py3-none-any.whl.metadata (2.6 kB)\n",
      "Requirement already satisfied: sniffio>=1.3.0 in c:\\programdata\\anaconda3\\lib\\site-packages (from trio~=0.17->selenium) (1.3.0)\n",
      "Requirement already satisfied: cffi>=1.14 in c:\\programdata\\anaconda3\\lib\\site-packages (from trio~=0.17->selenium) (1.16.0)\n",
      "Collecting wsproto>=0.14 (from trio-websocket~=0.9->selenium)\n",
      "  Downloading wsproto-1.2.0-py3-none-any.whl.metadata (5.6 kB)\n",
      "Requirement already satisfied: pysocks!=1.5.7,<2.0,>=1.5.6 in c:\\programdata\\anaconda3\\lib\\site-packages (from urllib3[socks]<3,>=1.26->selenium) (1.7.1)\n",
      "Requirement already satisfied: pycparser in c:\\programdata\\anaconda3\\lib\\site-packages (from cffi>=1.14->trio~=0.17->selenium) (2.21)\n",
      "Requirement already satisfied: h11<1,>=0.9.0 in c:\\programdata\\anaconda3\\lib\\site-packages (from wsproto>=0.14->trio-websocket~=0.9->selenium) (0.14.0)\n",
      "Downloading selenium-4.27.1-py3-none-any.whl (9.7 MB)\n",
      "   ---------------------------------------- 0.0/9.7 MB ? eta -:--:--\n",
      "    --------------------------------------- 0.1/9.7 MB 2.4 MB/s eta 0:00:04\n",
      "   -- ------------------------------------- 0.5/9.7 MB 6.2 MB/s eta 0:00:02\n",
      "   ---- ----------------------------------- 1.2/9.7 MB 8.1 MB/s eta 0:00:02\n",
      "   ------ --------------------------------- 1.5/9.7 MB 8.0 MB/s eta 0:00:02\n",
      "   ------- -------------------------------- 1.9/9.7 MB 8.6 MB/s eta 0:00:01\n",
      "   ---------- ----------------------------- 2.5/9.7 MB 8.9 MB/s eta 0:00:01\n",
      "   ------------ --------------------------- 3.0/9.7 MB 9.1 MB/s eta 0:00:01\n",
      "   -------------- ------------------------- 3.4/9.7 MB 9.1 MB/s eta 0:00:01\n",
      "   --------------- ------------------------ 3.9/9.7 MB 9.2 MB/s eta 0:00:01\n",
      "   ----------------- ---------------------- 4.3/9.7 MB 9.2 MB/s eta 0:00:01\n",
      "   ------------------- -------------------- 4.7/9.7 MB 9.2 MB/s eta 0:00:01\n",
      "   --------------------- ------------------ 5.2/9.7 MB 9.2 MB/s eta 0:00:01\n",
      "   ----------------------- ---------------- 5.6/9.7 MB 9.2 MB/s eta 0:00:01\n",
      "   ------------------------- -------------- 6.1/9.7 MB 9.3 MB/s eta 0:00:01\n",
      "   --------------------------- ------------ 6.6/9.7 MB 9.4 MB/s eta 0:00:01\n",
      "   ---------------------------- ----------- 7.0/9.7 MB 9.3 MB/s eta 0:00:01\n",
      "   ------------------------------ --------- 7.4/9.7 MB 9.3 MB/s eta 0:00:01\n",
      "   -------------------------------- ------- 7.9/9.7 MB 9.3 MB/s eta 0:00:01\n",
      "   ---------------------------------- ----- 8.3/9.7 MB 9.3 MB/s eta 0:00:01\n",
      "   ------------------------------------ --- 8.8/9.7 MB 9.4 MB/s eta 0:00:01\n",
      "   -------------------------------------- - 9.3/9.7 MB 9.4 MB/s eta 0:00:01\n",
      "   ---------------------------------------  9.7/9.7 MB 9.4 MB/s eta 0:00:01\n",
      "   ---------------------------------------- 9.7/9.7 MB 9.1 MB/s eta 0:00:00\n",
      "Downloading trio-0.27.0-py3-none-any.whl (481 kB)\n",
      "   ---------------------------------------- 0.0/481.7 kB ? eta -:--:--\n",
      "   --------------------------------------  481.3/481.7 kB 10.0 MB/s eta 0:00:01\n",
      "   ---------------------------------------- 481.7/481.7 kB 7.6 MB/s eta 0:00:00\n",
      "Downloading trio_websocket-0.11.1-py3-none-any.whl (17 kB)\n",
      "Downloading attrs-24.2.0-py3-none-any.whl (63 kB)\n",
      "   ---------------------------------------- 0.0/63.0 kB ? eta -:--:--\n",
      "   ---------------------------------------- 63.0/63.0 kB ? eta 0:00:00\n",
      "Downloading wsproto-1.2.0-py3-none-any.whl (24 kB)\n",
      "Downloading outcome-1.3.0.post0-py2.py3-none-any.whl (10 kB)\n",
      "Installing collected packages: wsproto, attrs, outcome, trio, trio-websocket, selenium\n",
      "Successfully installed attrs-24.2.0 outcome-1.3.0.post0 selenium-4.27.1 trio-0.27.0 trio-websocket-0.11.1 wsproto-1.2.0\n"
     ]
    },
    {
     "name": "stderr",
     "output_type": "stream",
     "text": [
      "DEPRECATION: Loading egg at c:\\programdata\\anaconda3\\lib\\site-packages\\vboxapi-1.0-py3.12.egg is deprecated. pip 24.3 will enforce this behaviour change. A possible replacement is to use pip for package installation.. Discussion can be found at https://github.com/pypa/pip/issues/12330\n"
     ]
    }
   ],
   "source": [
    "!pip install selenium\n"
   ]
  },
  {
   "cell_type": "code",
   "execution_count": 3,
   "id": "1a2d8cdb-16ec-4ae6-9ce1-9430d9a5fc5d",
   "metadata": {},
   "outputs": [
    {
     "name": "stdout",
     "output_type": "stream",
     "text": [
      "Data saved to 'hostels_in_goa.csv' with 31 hostels.\n"
     ]
    }
   ],
   "source": [
    "from selenium import webdriver\n",
    "from selenium.webdriver.common.by import By\n",
    "import pandas as pd\n",
    "import time\n",
    "\n",
    "# Set up Selenium WebDriver (Ensure you have the appropriate WebDriver installed, e.g., ChromeDriver)\n",
    "driver = webdriver.Chrome()\n",
    "\n",
    "# URL of the TripAdvisor page\n",
    "url = \"https://www.tripadvisor.in/Hotels-g297604-c3-zff26-a_trating.40-a_ufe.true-Goa-Hotels.html\"\n",
    "\n",
    "# Open the URL\n",
    "driver.get(url)\n",
    "\n",
    "# Wait for the page to load completely\n",
    "time.sleep(5)  # Adjust as needed\n",
    "\n",
    "# Extract hostel names\n",
    "hostel_names = []\n",
    "hostels = driver.find_elements(By.CLASS_NAME, \"biGQs._P.fiohW.ngXxk\")\n",
    "for hostel in hostels:\n",
    "    hostel_names.append(hostel.text.strip())\n",
    "\n",
    "# Close the WebDriver\n",
    "driver.quit()\n",
    "\n",
    "# Save the data to a CSV file\n",
    "data = pd.DataFrame({'Hostel Name': hostel_names})\n",
    "data.to_csv('hostels_in_goa.csv', index=False)\n",
    "\n",
    "print(f\"Data saved to 'hostels_in_goa.csv' with {len(hostel_names)} hostels.\")\n"
   ]
  },
  {
   "cell_type": "code",
   "execution_count": null,
   "id": "99dbc3a4-b025-458b-a15c-6ee3047dda9a",
   "metadata": {},
   "outputs": [],
   "source": []
  }
 ],
 "metadata": {
  "kernelspec": {
   "display_name": "Python 3 (ipykernel)",
   "language": "python",
   "name": "python3"
  },
  "language_info": {
   "codemirror_mode": {
    "name": "ipython",
    "version": 3
   },
   "file_extension": ".py",
   "mimetype": "text/x-python",
   "name": "python",
   "nbconvert_exporter": "python",
   "pygments_lexer": "ipython3",
   "version": "3.12.4"
  }
 },
 "nbformat": 4,
 "nbformat_minor": 5
}
